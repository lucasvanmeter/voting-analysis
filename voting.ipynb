{
 "cells": [
  {
   "cell_type": "code",
   "execution_count": 12,
   "id": "1413eafd",
   "metadata": {},
   "outputs": [],
   "source": [
    "from VotingData import VotingData"
   ]
  },
  {
   "cell_type": "markdown",
   "id": "d13b2f79",
   "metadata": {},
   "source": [
    "dataset of CVRs\n",
    "\n",
    "https://dataverse.harvard.edu/dataverse/rcv_cvrs\n",
    "\n",
    "https://stackoverflow.com/questions/43119503/how-to-remove-blanks-nas-from-dataframe-and-shift-the-values-up"
   ]
  },
  {
   "cell_type": "code",
   "execution_count": 13,
   "id": "088e53a4",
   "metadata": {
    "scrolled": true
   },
   "outputs": [
    {
     "data": {
      "application/vnd.jupyter.widget-view+json": {
       "model_id": "f40de4322e714731988eb9853a29e764",
       "version_major": 2,
       "version_minor": 0
      },
      "text/plain": [
       "Pandas Apply:   0%|          | 0/72476 [00:00<?, ?it/s]"
      ]
     },
     "metadata": {},
     "output_type": "display_data"
    },
    {
     "name": "stdout",
     "output_type": "stream",
     "text": [
      "CPU times: user 12.4 s, sys: 184 ms, total: 12.6 s\n",
      "Wall time: 12.5 s\n"
     ]
    }
   ],
   "source": [
    "%%time\n",
    "ny_voting_data = VotingData(\"data/NewYorkCity_06222021_DEMMayorCitywide.csv\", 5)"
   ]
  },
  {
   "cell_type": "code",
   "execution_count": 6,
   "id": "19692ca6",
   "metadata": {},
   "outputs": [
    {
     "data": {
      "text/plain": [
       "{'Plurality': 'Eric L. Adams',\n",
       " 'Instant Runoff': 'Eric L. Adams',\n",
       " 'Condorcet Candidate': 'Eric L. Adams'}"
      ]
     },
     "execution_count": 6,
     "metadata": {},
     "output_type": "execute_result"
    }
   ],
   "source": [
    "ny_voting_data.voting_results()"
   ]
  },
  {
   "cell_type": "code",
   "execution_count": null,
   "id": "a858e624",
   "metadata": {},
   "outputs": [],
   "source": [
    "test = ny_voting_data.ballots\n",
    "test[(test == 'writein').any(axis=1)]"
   ]
  },
  {
   "cell_type": "code",
   "execution_count": null,
   "id": "cec7b1ae",
   "metadata": {},
   "outputs": [],
   "source": [
    "%%time\n",
    "ny_voting_data.plurality_winner()"
   ]
  },
  {
   "cell_type": "code",
   "execution_count": null,
   "id": "090c228f",
   "metadata": {},
   "outputs": [],
   "source": [
    "%%time\n",
    "irw = ny_voting_data.instant_runoff_winner()"
   ]
  },
  {
   "cell_type": "code",
   "execution_count": null,
   "id": "49f0961c",
   "metadata": {},
   "outputs": [],
   "source": [
    "irw.iloc[:,-1].idxmax()"
   ]
  },
  {
   "cell_type": "code",
   "execution_count": null,
   "id": "8a9c7947",
   "metadata": {},
   "outputs": [],
   "source": [
    "%%time\n",
    "ny_voting_data.pairwise_winners()"
   ]
  },
  {
   "cell_type": "code",
   "execution_count": null,
   "id": "e396fcdc",
   "metadata": {},
   "outputs": [],
   "source": [
    "%%time\n",
    "ny_voting_data.condorcet_winner()"
   ]
  },
  {
   "cell_type": "code",
   "execution_count": null,
   "id": "7904bf04",
   "metadata": {},
   "outputs": [],
   "source": [
    "toy_voting_data = VotingData(\"data/toy.csv\", 3)"
   ]
  }
 ],
 "metadata": {
  "kernelspec": {
   "display_name": "Python 3 (ipykernel)",
   "language": "python",
   "name": "python3"
  },
  "language_info": {
   "codemirror_mode": {
    "name": "ipython",
    "version": 3
   },
   "file_extension": ".py",
   "mimetype": "text/x-python",
   "name": "python",
   "nbconvert_exporter": "python",
   "pygments_lexer": "ipython3",
   "version": "3.10.12"
  }
 },
 "nbformat": 4,
 "nbformat_minor": 5
}
